{
 "cells": [
  {
   "cell_type": "code",
   "execution_count": 2,
   "metadata": {
    "pycharm": {
     "name": "#%%\n"
    }
   },
   "outputs": [],
   "source": [
    "import os, sys, json\n",
    "import cv2\n",
    "import numpy as np\n",
    "import matplotlib.pyplot as plt\n"
   ]
  },
  {
   "cell_type": "code",
   "execution_count": 3,
   "metadata": {
    "pycharm": {
     "name": "#%%\n"
    }
   },
   "outputs": [],
   "source": [
    "# input\n",
    "data_path = '//home//mayer//LocalRepository//JupyterProjects//MADE_2019_cv//02_CarPlatesOCR//data//'\n",
    "data_path_generatedPlates = \"//home//mayer//LocalRepository//JupyterProjects//MADE_2019_cv//02_CarPlatesOCR//data//train_generated_60k//\"\n",
    "train_file = os.path.join(data_path, 'train.json')\n",
    "# output\n",
    "train_seg_file = os.path.join(data_path, 'train_segmentation.json')\n",
    "train_rec_file = os.path.join(data_path, 'train_recognition.json')\n",
    "train_rec_file_ext = os.path.join(data_path, 'train_recognitionExt.json')"
   ]
  },
  {
   "cell_type": "markdown",
   "metadata": {},
   "source": [
    "#### Generate segmentation dataset"
   ]
  },
  {
   "cell_type": "code",
   "execution_count": null,
   "metadata": {
    "pycharm": {
     "name": "#%%\n"
    }
   },
   "outputs": [],
   "source": [
    "# Lets convert bounding boxes to segmentation masks, you can do it on the fly,\n",
    "# if you've got enough CPU and high num workers\n",
    "with open(train_file) as rf:\n",
    "    data = json.load(rf)\n",
    "\n",
    "for i, elem in enumerate(data):\n",
    "    if i % 100 == 0:\n",
    "        print (i, len(data))\n",
    "    fname = elem['file']\n",
    "    path = os.path.join(data_path, fname)\n",
    "    base, ext = os.path.splitext(fname)\n",
    "    mask_fname = base + '.mask' + ext\n",
    "    mask_path = os.path.join(data_path, mask_fname)\n",
    "    nums = elem['nums']\n",
    "\n",
    "    if not os.path.exists(mask_path):\n",
    "        img = cv2.imread(path)\n",
    "        if img is None:\n",
    "            continue\n",
    "        mask = np.zeros(shape=img.shape, dtype=np.uint8)\n",
    "        for num in nums:\n",
    "            bbox = np.array(num['box'])\n",
    "            cv2.fillConvexPoly(mask, bbox, (255,255,255))\n",
    "        cv2.imwrite(mask_path, mask)\n",
    "\n",
    "    elem['mask'] = mask_fname"
   ]
  },
  {
   "cell_type": "code",
   "execution_count": null,
   "metadata": {},
   "outputs": [],
   "source": [
    "with open(train_seg_file, 'w') as wf:\n",
    "    json.dump(data, wf)"
   ]
  },
  {
   "cell_type": "code",
   "execution_count": null,
   "metadata": {
    "pycharm": {
     "name": "#%%\n"
    }
   },
   "outputs": [],
   "source": [
    "# check data\n",
    "from detection.dataset import DetectionDataset\n",
    "#\n",
    "dataset = DetectionDataset(data_path, config_file=train_seg_file,part=0.001)\n",
    "print(len(dataset))\n",
    "image, mask = dataset[0]\n",
    "print(image.shape)\n",
    "print(mask.shape)\n",
    "print(np.max(mask))\n"
   ]
  },
  {
   "cell_type": "markdown",
   "metadata": {},
   "source": [
    "#### Generate recognition dataset"
   ]
  },
  {
   "cell_type": "code",
   "execution_count": null,
   "metadata": {
    "pycharm": {
     "name": "#%%\n"
    }
   },
   "outputs": [],
   "source": [
    "# generate ocr dataset\n",
    "if not os.path.exists(train_rec_file):\n",
    "    with open(train_file) as rf:\n",
    "        data = json.load(rf)\n",
    "\n",
    "    new_data = []\n",
    "    for i, elem in enumerate(data):\n",
    "        #if i % 100 == 0:\n",
    "        #    print (i, len(data))\n",
    "        img_path = os.path.join(data_path, elem['file'])\n",
    "        img = cv2.imread(img_path)\n",
    "        if img is None:\n",
    "            continue\n",
    "        for j, true_box in enumerate(elem['nums']):\n",
    "            base, ext = os.path.splitext(elem['file'])\n",
    "            addon = base + '.box' + str(j) + ext\n",
    "            crop_name = os.path.join(data_path, addon)\n",
    "\n",
    "            box = true_box['box']\n",
    "            x_box = [w[0] for w in box]\n",
    "            y_box = [w[1] for w in box]\n",
    "            x1, x2 = max(0, min(x_box)), max(x_box)\n",
    "            y1, y2 = max(0, min(y_box)), max(y_box)\n",
    "            crop = img[y1: y2, x1: x2, :] #  TODO: you can normalize bounding box to make the OCR task easier\n",
    "            cv2.imwrite(crop_name, crop)\n",
    "\n",
    "            new_data.append(dict(file=addon, text=true_box['text']))\n",
    "        \n",
    "    with open(train_rec_file, 'w') as wf:\n",
    "         json.dump(new_data, wf)"
   ]
  },
  {
   "cell_type": "code",
   "execution_count": null,
   "metadata": {
    "pycharm": {
     "name": "#%%\n"
    }
   },
   "outputs": [],
   "source": [
    "# check\n",
    "import recognition\n",
    "#sys.path.insert(0, recognition.__path__[0])\n",
    "from recognition.dataset import RecognitionDataset\n",
    "train_dataset = RecognitionDataset(data_path, train_rec_file)\n",
    "print('Train dataset: {}'.format(len(train_dataset)))\n",
    "print(train_dataset[0]['image'].shape, train_dataset[0]['text'])"
   ]
  },
  {
   "cell_type": "code",
   "execution_count": null,
   "metadata": {
    "pycharm": {
     "name": "#%%\n"
    }
   },
   "outputs": [],
   "source": [
    "import torch\n",
    "from recognition.model import RecognitionModel\n",
    "model = RecognitionModel()\n",
    "model.eval()\n",
    "np.random.seed(0)\n",
    "inputs = torch.Tensor(np.random.normal(size=(11, 3, 32, 320)))\n",
    "outputs = model.forward(inputs, decode=True)\n",
    "print(outputs)"
   ]
  },
  {
   "cell_type": "markdown",
   "metadata": {},
   "source": [
    "#### Generate extended recognition dataset "
   ]
  },
  {
   "cell_type": "code",
   "execution_count": 29,
   "metadata": {},
   "outputs": [],
   "source": [
    "# read json with recognition dataset \n",
    "with open(train_rec_file) as rf:\n",
    "    data = json.load(rf)"
   ]
  },
  {
   "cell_type": "code",
   "execution_count": 30,
   "metadata": {},
   "outputs": [],
   "source": [
    "new_data = []\n",
    "for root,dirs,names in os.walk(data_path_generatedPlates):\n",
    "    folder = root.split(\"//\")[-2]\n",
    "    for name in names:\n",
    "        new_data.append(dict(file=os.path.join(folder,name), text=name.split(\".\")[0].upper()))\n",
    "data.extend(new_data)"
   ]
  },
  {
   "cell_type": "code",
   "execution_count": 31,
   "metadata": {},
   "outputs": [],
   "source": [
    "with open(train_rec_file_ext, 'w') as wf:\n",
    "    json.dump(data, wf)"
   ]
  },
  {
   "cell_type": "code",
   "execution_count": null,
   "metadata": {},
   "outputs": [],
   "source": []
  }
 ],
 "metadata": {
  "kernelspec": {
   "display_name": "Python 3",
   "language": "python",
   "name": "python3"
  },
  "language_info": {
   "codemirror_mode": {
    "name": "ipython",
    "version": 3
   },
   "file_extension": ".py",
   "mimetype": "text/x-python",
   "name": "python",
   "nbconvert_exporter": "python",
   "pygments_lexer": "ipython3",
   "version": "3.6.9"
  }
 },
 "nbformat": 4,
 "nbformat_minor": 1
}
